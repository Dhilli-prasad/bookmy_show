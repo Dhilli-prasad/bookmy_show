{
 "cells": [
  {
   "cell_type": "markdown",
   "id": "5c51ba4e",
   "metadata": {},
   "source": [
    "# Ticket Booking System Through Book My Show\n",
    "\n",
    "This notebook demonstrates a simple ticket booking system similar to Book My Show, implemented in Python."
   ]
  },
  {
   "cell_type": "markdown",
   "id": "464eb9db",
   "metadata": {},
   "source": [
    "## 1. Import Required Libraries\n",
    "\n",
    "We will import Python libraries such as `datetime` and others needed for the booking system."
   ]
  },
  {
   "cell_type": "code",
   "execution_count": 46,
   "id": "8d0dc12e",
   "metadata": {},
   "outputs": [],
   "source": [
    "# Import Required Libraries\n",
    "import datetime\n",
    "import random"
   ]
  },
  {
   "cell_type": "markdown",
   "id": "6246c9e2",
   "metadata": {},
   "source": [
    "## 2. Define Movie and Show Data\n",
    "\n",
    "Let's create data structures to store available movies, showtimes, and seat availability."
   ]
  },
  {
   "cell_type": "code",
   "execution_count": 50,
   "id": "e8d56a2e",
   "metadata": {},
   "outputs": [],
   "source": [
    "# Define Movie and Show Data\n",
    "\n",
    "movies = {\n",
    "    \"coolie: Nagarajuna\": {\n",
    "        \"showtimes\": {\n",
    "            \"10:00 AM\": {\"seats\": [f\"A{i}\" for i in range(1, 11)]},\n",
    "            \"2:00 PM\": {\"seats\": [f\"A{i}\" for i in range(1, 20)]}\n",
    "        }\n",
    "    },\n",
    "    \"war2\": {\n",
    "        \"showtimes\": {\n",
    "            \"12:00 PM\": {\"seats\": [f\"B{i}\" for i in range(1, 11)]},\n",
    "            \"6:00 PM\": {\"seats\": [f\"B{i}\" for i in range(1, 29)]}\n",
    "        }\n",
    "    }\n",
    "}\n",
    "\n",
    "booking_history = []"
   ]
  },
  {
   "cell_type": "markdown",
   "id": "99652755",
   "metadata": {},
   "source": [
    "## 3. Display Available Movies and Shows\n",
    "\n",
    "The following code displays the list of movies and their available showtimes."
   ]
  },
  {
   "cell_type": "code",
   "execution_count": 51,
   "id": "347b5657",
   "metadata": {},
   "outputs": [
    {
     "name": "stdout",
     "output_type": "stream",
     "text": [
      "Available Movies and Showtimes:\n",
      "1. coolie: Nagarajuna\n",
      "   1) 10:00 AM - 10 seats available\n",
      "   2) 2:00 PM - 19 seats available\n",
      "2. war2\n",
      "   1) 12:00 PM - 10 seats available\n",
      "   2) 6:00 PM - 28 seats available\n",
      "\n"
     ]
    }
   ],
   "source": [
    "# Display Available Movies and Shows\n",
    "\n",
    "def display_movies(movies):\n",
    "    print(\"Available Movies and Showtimes:\")\n",
    "    for idx, (movie, details) in enumerate(movies.items(), 1):\n",
    "        print(f\"{idx}. {movie}\")\n",
    "        for st_idx, (showtime, info) in enumerate(details[\"showtimes\"].items(), 1):\n",
    "            available_seats = len(info[\"seats\"])\n",
    "            print(f\"   {st_idx}) {showtime} - {available_seats} seats available\")\n",
    "    print()\n",
    "\n",
    "display_movies(movies)"
   ]
  },
  {
   "cell_type": "markdown",
   "id": "97aff906",
   "metadata": {},
   "source": [
    "## 4. User Seat Selection\n",
    "\n",
    "Select a movie, showtime, and choose seats. The seat availability will be updated accordingly."
   ]
  },
  {
   "cell_type": "code",
   "execution_count": 54,
   "id": "3c111994",
   "metadata": {},
   "outputs": [
    {
     "name": "stdout",
     "output_type": "stream",
     "text": [
      "Available Movies and Showtimes:\n",
      "1. coolie: Nagarajuna\n",
      "   1) 10:00 AM - 10 seats available\n",
      "   2) 2:00 PM - 19 seats available\n",
      "2. war2\n",
      "   1) 12:00 PM - 10 seats available\n",
      "   2) 6:00 PM - 28 seats available\n",
      "\n",
      "1. 12:00 PM\n",
      "2. 6:00 PM\n",
      "Invalid input. Please enter valid numbers.\n",
      "Seat selection failed.\n"
     ]
    }
   ],
   "source": [
    "def select_movie_showtime(movies):\n",
    "    movie_list = list(movies.keys())\n",
    "    display_movies(movies)\n",
    "    try:\n",
    "        movie_choice = int(input(\"Select a movie (number): \")) - 1\n",
    "        if movie_choice not in range(len(movie_list)):\n",
    "            print(\"Invalid movie selection.\")\n",
    "            return None\n",
    "        movie_name = movie_list[movie_choice]\n",
    "        showtimes = list(movies[movie_name][\"showtimes\"].keys())\n",
    "        for idx, st in enumerate(showtimes, 1):\n",
    "            print(f\"{idx}. {st}\")\n",
    "        showtime_choice = int(input(\"Select a showtime (number): \")) - 1\n",
    "        if showtime_choice not in range(len(showtimes)):\n",
    "            print(\"Invalid showtime selection.\")\n",
    "            return None\n",
    "        showtime = showtimes[showtime_choice]\n",
    "        available_seats = movies[movie_name][\"showtimes\"][showtime][\"seats\"]\n",
    "        print(f\"Available seats: {', '.join(available_seats)}\")\n",
    "        seat_selection = input(\"Enter seat numbers to book (comma separated): \").replace(\" \", \"\").split(\",\")\n",
    "        # Check seat availability\n",
    "        if not set(seat_selection).issubset(set(available_seats)):\n",
    "            print(\"One or more selected seats are not available. Please try again.\")\n",
    "            return None\n",
    "        # Update seat availability\n",
    "        for seat in seat_selection:\n",
    "            available_seats.remove(seat)\n",
    "        return {\n",
    "            \"movie\": movie_name,\n",
    "            \"showtime\": showtime,\n",
    "            \"seats\": seat_selection\n",
    "        }\n",
    "    except (ValueError, IndexError):\n",
    "        print(\"Invalid input. Please enter valid numbers.\")\n",
    "        return None\n",
    "\n",
    "booking = select_movie_showtime(movies)\n",
    "if booking:\n",
    "    print(\"Seats selected successfully!\")\n",
    "else:\n",
    "    print(\"Seat selection failed.\")"
   ]
  },
  {
   "cell_type": "markdown",
   "id": "af75d406",
   "metadata": {},
   "source": [
    "## 5. Booking Confirmation and Ticket Generation\n",
    "\n",
    "Generate a booking confirmation with details such as movie name, showtime, seats, and booking ID."
   ]
  },
  {
   "cell_type": "code",
   "execution_count": 55,
   "id": "a1a81b90",
   "metadata": {},
   "outputs": [
    {
     "name": "stdout",
     "output_type": "stream",
     "text": [
      "No booking to confirm.\n"
     ]
    }
   ],
   "source": [
    "# Booking Confirmation and Ticket Generation\n",
    "\n",
    "def generate_booking_id():\n",
    "    return f\"BKS{random.randint(1000,9999)}\"\n",
    "\n",
    "def confirm_booking(booking):\n",
    "    if booking:\n",
    "        booking_id = generate_booking_id()\n",
    "        booking[\"booking_id\"] = booking_id\n",
    "        booking[\"timestamp\"] = datetime.datetime.now().strftime(\"%Y-%m-%d %H:%M:%S\")\n",
    "        booking_history.append(booking)\n",
    "        print(\"\\nBooking Confirmed!\")\n",
    "        print(f\"Booking ID: {booking_id}\")\n",
    "        print(f\"Movie: {booking['movie']}\")\n",
    "        print(f\"Showtime: {booking['showtime']}\")\n",
    "        print(f\"Seats: {', '.join(booking['seats'])}\")\n",
    "        print(f\"Time: {booking['timestamp']}\")\n",
    "    else:\n",
    "        print(\"No booking to confirm.\")\n",
    "\n",
    "confirm_booking(booking)"
   ]
  },
  {
   "cell_type": "markdown",
   "id": "081bf973",
   "metadata": {},
   "source": [
    "## 6. View Booking History\n",
    "\n",
    "View all previous bookings made during the session."
   ]
  }
 ],
 "metadata": {
  "kernelspec": {
   "display_name": "base",
   "language": "python",
   "name": "python3"
  },
  "language_info": {
   "codemirror_mode": {
    "name": "ipython",
    "version": 3
   },
   "file_extension": ".py",
   "mimetype": "text/x-python",
   "name": "python",
   "nbconvert_exporter": "python",
   "pygments_lexer": "ipython3",
   "version": "3.12.7"
  }
 },
 "nbformat": 4,
 "nbformat_minor": 5
}
